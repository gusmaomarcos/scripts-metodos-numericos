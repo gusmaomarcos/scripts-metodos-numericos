{
 "cells": [
  {
   "cell_type": "code",
   "execution_count": 1,
   "metadata": {},
   "outputs": [],
   "source": [
    "#from __future__ import division\n",
    "import numpy as np\n",
    "import matplotlib.pyplot as plt\n",
    "\n",
    "def func(x):\n",
    "    f = x + 0.1 - ((0.05*np.exp((20*x)/(1+x))/(1+0.1*np.exp((20*x)/(1+x)))))\n",
    "    return f\n",
    "\n",
    "def cstr(a,b,e,sig,km):\n",
    "    inia = a\n",
    "    inib = b\n",
    "    fa = func(a)\n",
    "    fb = func(b)\n",
    "    k = 0\n",
    "    delt = np.absolute(b-a)\n",
    "    \n",
    "# if fa*fb > 0 (...)\n",
    "        \n",
    "        \n",
    "    \n",
    "    while k<km and delt > e or np.absolute(y) > sig:\n",
    "        lambd = fa/(fa-fb)\n",
    "        x0 = a + lambd*(b-a)\n",
    "        y = func(x0)\n",
    "        \n",
    "        if y*fa>0:\n",
    "            fa = y\n",
    "            a = x0\n",
    "        else:\n",
    "            fb = y\n",
    "            b = x0\n",
    "        \n",
    "        delt = np.absolute(b-a)\n",
    "        k = k+1\n",
    "        \n",
    "    return x0, y, inia, inib, k"
   ]
  },
  {
   "cell_type": "code",
   "execution_count": 2,
   "metadata": {},
   "outputs": [
    {
     "data": {
      "text/plain": [
       "(-0.09376525191351565, 0.0, -0.15, -0.05, 100)"
      ]
     },
     "execution_count": 2,
     "metadata": {},
     "output_type": "execute_result"
    }
   ],
   "source": [
    "cstr(-0.15,-0.05,1e-6,1e-7,100)"
   ]
  },
  {
   "cell_type": "code",
   "execution_count": 3,
   "metadata": {},
   "outputs": [
    {
     "data": {
      "text/plain": [
       "(0.10972955194619273, -2.7755575615628914e-17, 0.05, 0.15, 6)"
      ]
     },
     "execution_count": 3,
     "metadata": {},
     "output_type": "execute_result"
    }
   ],
   "source": [
    "cstr(0.05,0.15,1e-6,1e-7,100)"
   ]
  },
  {
   "cell_type": "code",
   "execution_count": 4,
   "metadata": {},
   "outputs": [
    {
     "data": {
      "text/plain": [
       "(0.3806277380017041, 5.551115123125783e-17, 0.35, 0.45, 14)"
      ]
     },
     "execution_count": 4,
     "metadata": {},
     "output_type": "execute_result"
    }
   ],
   "source": [
    "cstr(0.35,0.45,1e-6,1e-7,100)"
   ]
  },
  {
   "cell_type": "code",
   "execution_count": 5,
   "metadata": {},
   "outputs": [
    {
     "data": {
      "text/plain": [
       "(0.380627738001704, -5.551115123125783e-17, 1000, 2000, 22)"
      ]
     },
     "execution_count": 5,
     "metadata": {},
     "output_type": "execute_result"
    }
   ],
   "source": [
    "cstr(1000,2000,1e-6,1e-7,100)"
   ]
  },
  {
   "cell_type": "code",
   "execution_count": null,
   "metadata": {},
   "outputs": [],
   "source": []
  },
  {
   "cell_type": "code",
   "execution_count": null,
   "metadata": {},
   "outputs": [],
   "source": []
  },
  {
   "cell_type": "code",
   "execution_count": 6,
   "metadata": {},
   "outputs": [
    {
     "data": {
      "text/plain": [
       "-0.05518019235563465"
      ]
     },
     "execution_count": 6,
     "metadata": {},
     "output_type": "execute_result"
    }
   ],
   "source": [
    "func(0.173)"
   ]
  },
  {
   "cell_type": "code",
   "execution_count": null,
   "metadata": {},
   "outputs": [],
   "source": []
  },
  {
   "cell_type": "code",
   "execution_count": null,
   "metadata": {},
   "outputs": [],
   "source": []
  }
 ],
 "metadata": {
  "kernelspec": {
   "display_name": "Python 3",
   "language": "python",
   "name": "python3"
  },
  "language_info": {
   "codemirror_mode": {
    "name": "ipython",
    "version": 3
   },
   "file_extension": ".py",
   "mimetype": "text/x-python",
   "name": "python",
   "nbconvert_exporter": "python",
   "pygments_lexer": "ipython3",
   "version": "3.8.3"
  }
 },
 "nbformat": 4,
 "nbformat_minor": 2
}

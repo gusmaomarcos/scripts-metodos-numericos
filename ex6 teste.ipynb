{
 "cells": [
  {
   "cell_type": "code",
   "execution_count": 12,
   "metadata": {},
   "outputs": [],
   "source": [
    "import numpy as np\n",
    "import matplotlib.pyplot as plt"
   ]
  },
  {
   "cell_type": "code",
   "execution_count": 20,
   "metadata": {},
   "outputs": [],
   "source": [
    "def modelo1(x1, x2): \n",
    "    v=10\n",
    "    x2f=4\n",
    "    f=3\n",
    "    mi=0.53\n",
    "    kd=0.01\n",
    "    km=0.12\n",
    "    Y=0.4\n",
    "    \n",
    "    eq1 = ((mi*x1*x2)/(km+x2))-((f/v)+kd)*x1\n",
    "    \n",
    "    return eq1\n",
    "\n",
    "def modelo2(x1, x2): \n",
    "    v=10\n",
    "    x2f=4\n",
    "    f=3\n",
    "    mi=0.53\n",
    "    kd=0.01\n",
    "    km=0.12\n",
    "    Y=0.4\n",
    "    \n",
    "    eq2 = (f/v)*(x2f-x2)-(1/Y)*(mi*x1*x2/(km+x2))\n",
    "    \n",
    "    return eq2\n",
    "\n",
    "def rungekutta(x, x10=1.65, x20=0.2, h=0.1): \n",
    "    n = int(((x - x10)/h)) \n",
    "    ya = x10\n",
    "    yb = x20 \n",
    "    for i in range(1, n+1): \n",
    "        k11 = h * modelo1(x10, ya) \n",
    "        k21 = h * modelo2(x10, yb) \n",
    "        k12 = h * modelo1(x10 + 0.5 * h, ya + 0.5 * k11) \n",
    "        k22 = h * modelo2(x10 + 0.5 * h, yb + 0.5 * k21)\n",
    "        k13 = h * modelo1(x10 + 0.5 * h, ya + 0.5 * k12) \n",
    "        k23 = h * modelo2(x10 + 0.5 * h, yb + 0.5 * k22) \n",
    "        k14 = h * modelo1(x10 + h, ya + k13) \n",
    "        k24 = h * modelo2(x10 + h, yb + k23) \n",
    "        ya = ya + (1.0 / 6.0)*(k11 + 2 * k12 + 2 * k13 + k14) \n",
    "        yb = yb + (1.0 / 6.0)*(k21 + 2 * k22 + 2 * k23 + k24) \n",
    "        x10 = x10 + h\n",
    "        x20 = x20 + h\n",
    "    return ya, yb"
   ]
  },
  {
   "cell_type": "code",
   "execution_count": 21,
   "metadata": {},
   "outputs": [],
   "source": [
    "a = list(range(0,31))\n",
    "b = []\n",
    "for j in a:\n",
    "    b.append(rungekutta(j)[0])\n",
    "c = []\n",
    "for i in a:\n",
    "    c.append(rungekutta(i)[1])"
   ]
  },
  {
   "cell_type": "code",
   "execution_count": 22,
   "metadata": {},
   "outputs": [
    {
     "data": {
      "image/png": "[encoded data removed]",
      "text/plain": [
       "<Figure size 432x288 with 1 Axes>"
      ]
     },
     "metadata": {
      "needs_background": "light"
     },
     "output_type": "display_data"
    }
   ],
   "source": [
    "plt.plot(a,b)\n",
    "plt.plot(a,c)\n",
    "plt.show()"
   ]
  },
  {
   "cell_type": "code",
   "execution_count": null,
   "metadata": {},
   "outputs": [],
   "source": []
  }
 ],
 "metadata": {
  "kernelspec": {
   "display_name": "Python 3",
   "language": "python",
   "name": "python3"
  },
  "language_info": {
   "codemirror_mode": {
    "name": "ipython",
    "version": 3
   },
   "file_extension": ".py",
   "mimetype": "text/x-python",
   "name": "python",
   "nbconvert_exporter": "python",
   "pygments_lexer": "ipython3",
   "version": "3.8.3"
  }
 },
 "nbformat": 4,
 "nbformat_minor": 4
}
